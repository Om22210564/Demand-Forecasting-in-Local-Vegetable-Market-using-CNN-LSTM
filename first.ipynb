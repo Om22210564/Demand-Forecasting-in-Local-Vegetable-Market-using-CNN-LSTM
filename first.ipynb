{
 "cells": [
  {
   "cell_type": "code",
   "execution_count": 1,
   "metadata": {},
   "outputs": [],
   "source": [
    "from selenium import webdriver\n",
    "from selenium.webdriver.common.by import By\n",
    "from selenium.webdriver.support.ui import Select\n",
    "from selenium.webdriver.chrome.service import Service\n",
    "from selenium.webdriver.chrome.options import Options\n",
    "import os\n",
    "import time\n",
    "import shutil\n",
    "import pandas as pd"
   ]
  },
  {
   "cell_type": "code",
   "execution_count": 3,
   "metadata": {},
   "outputs": [],
   "source": [
    "# Setup paths\n",
    "chrome_driver_path = r\"C:\\Users\\omkar\\OneDrive\\Desktop\\Agriculture\\chromedriver-win64\\chromedriver.exe\"\n",
    "current_working_dir = os.getcwd()\n",
    "download_folder = os.path.join(current_working_dir, \"AgriDownload\")\n"
   ]
  },
  {
   "cell_type": "code",
   "execution_count": 4,
   "metadata": {},
   "outputs": [],
   "source": [
    "# Create the AgriDownload folder if it doesn't exist\n",
    "if not os.path.exists(download_folder):\n",
    "    os.makedirs(download_folder)"
   ]
  },
  {
   "cell_type": "code",
   "execution_count": 5,
   "metadata": {},
   "outputs": [],
   "source": []
  },
  {
   "cell_type": "code",
   "execution_count": null,
   "metadata": {},
   "outputs": [],
   "source": [
    "\n",
    "\n",
    "# Configure Chrome options to set the download directory\n",
    "chrome_options = Options()\n",
    "prefs = {\"download.default_directory\": download_folder}  # Set download path\n",
    "chrome_options.add_experimental_option(\"prefs\", prefs)\n",
    "\n",
    "# Setup the Chrome WebDriver with the specified download folder\n",
    "service = Service(chrome_driver_path)\n",
    "driver = webdriver.Chrome(service=service, options=chrome_options)\n",
    "\n",
    "# Open the website\n",
    "driver.get(\"https://agmarknet.gov.in/PriceAndArrivals/DatewiseCommodityReport.aspx\")\n",
    "\n",
    "# Interact with the Year drop-down (2023)\n",
    "year_select = Select(driver.find_element(By.ID, 'cphBody_cboYear'))\n",
    "year_select.select_by_visible_text(\"2023\")\n",
    "\n",
    "# List of months to iterate through\n",
    "months = [\"January\", \"February\", \"March\", \"April\", \"May\", \"June\"]\n",
    "#, \n",
    "        #   \"July\", \"August\", \"September\", \"October\", \"November\", \"December\"\n",
    "# Loop through each month\n",
    "for month in months:\n",
    "    # Select the month\n",
    "    month_select = Select(driver.find_element(By.ID, 'cphBody_cboMonth'))\n",
    "    month_select.select_by_visible_text(month)\n",
    "    time.sleep(5)\n",
    "    \n",
    "    # Select the state as Maharashtra\n",
    "    state_select = Select(driver.find_element(By.ID, 'cphBody_cboState'))\n",
    "    state_select.select_by_visible_text(\"Maharashtra\")\n",
    "    time.sleep(5)\n",
    "    \n",
    "    # Select the commodity as Onion\n",
    "    commodity_select = Select(driver.find_element(By.ID, 'cphBody_cboCommodity'))\n",
    "    commodity_select.select_by_visible_text(\"Onion\")\n",
    "    time.sleep(5)\n",
    "    \n",
    "    # Click the submit button\n",
    "    submit_button = driver.find_element(By.ID, 'cphBody_btnSubmit')\n",
    "    submit_button.click()\n",
    "    time.sleep(5)\n",
    "    \n",
    "    # After page redirects, find the \"Export to Excel\" button and click it\n",
    "    export_button = driver.find_element(By.ID, 'cphBody_Button1')\n",
    "    export_button.click()\n",
    "    \n",
    "    # Wait for the download to complete\n",
    "    time.sleep(10)\n",
    "    \n",
    "    # Rename the downloaded file to \"month_2023.html\"\n",
    "    downloaded_file = max([os.path.join(download_folder, f) for f in os.listdir(download_folder)], key=os.path.getctime)\n",
    "    new_file_name = os.path.join(download_folder, f\"{month}_2023.html\")\n",
    "    shutil.move(downloaded_file, new_file_name)\n",
    "    print(f\"Downloaded and renamed: {new_file_name}\")\n",
    "\n",
    "# Close the driver after completing the task\n",
    "driver.quit()\n"
   ]
  },
  {
   "cell_type": "code",
   "execution_count": null,
   "metadata": {},
   "outputs": [],
   "source": []
  }
 ],
 "metadata": {
  "kernelspec": {
   "display_name": "Python 3",
   "language": "python",
   "name": "python3"
  },
  "language_info": {
   "codemirror_mode": {
    "name": "ipython",
    "version": 3
   },
   "file_extension": ".py",
   "mimetype": "text/x-python",
   "name": "python",
   "nbconvert_exporter": "python",
   "pygments_lexer": "ipython3",
   "version": "3.11.1"
  }
 },
 "nbformat": 4,
 "nbformat_minor": 2
}
