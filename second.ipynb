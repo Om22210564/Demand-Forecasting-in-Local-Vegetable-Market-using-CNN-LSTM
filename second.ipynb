{
 "cells": [
  {
   "cell_type": "markdown",
   "metadata": {},
   "source": [
    "### Code for cleaning of all the csv files and preprocessing and then combining them to yearly ###"
   ]
  },
  {
   "cell_type": "code",
   "execution_count": 20,
   "metadata": {},
   "outputs": [],
   "source": [
    "import pandas as pd\n",
    "import os"
   ]
  },
  {
   "cell_type": "code",
   "execution_count": 21,
   "metadata": {},
   "outputs": [],
   "source": [
    "csv_folder = 'C:/Users/omkar/OneDrive/Desktop/DesignProject/CSV_24/'\n",
    "# csv_folder = './CSV/'\n",
    "output_dir = 'C:/Users/omkar/OneDrive/Desktop/DesignProject/CSV_Store_24/'\n",
    "os.makedirs(output_dir, exist_ok=True)"
   ]
  },
  {
   "cell_type": "code",
   "execution_count": 22,
   "metadata": {},
   "outputs": [],
   "source": [
    "\n",
    "# csv_files\n",
    "csv_files = [os.path.join(csv_folder, file) for file in os.listdir(csv_folder) if file.endswith('.csv')]\n",
    "# csv_files"
   ]
  },
  {
   "cell_type": "code",
   "execution_count": 23,
   "metadata": {},
   "outputs": [
    {
     "name": "stdout",
     "output_type": "stream",
     "text": [
      "Processed and saved: april_24_cleaned.csv\n",
      "Processed and saved: august_24_cleaned.csv\n",
      "Processed and saved: february_24_cleaned.csv\n",
      "Processed and saved: january_24_cleaned.csv\n",
      "Processed and saved: july_24_cleaned.csv\n",
      "Processed and saved: june_24_cleaned.csv\n",
      "Processed and saved: march_24_cleaned.csv\n",
      "Processed and saved: may_24_cleaned.csv\n",
      "Processed and saved: september_24_cleaned.csv\n",
      "All files processed and saved.\n"
     ]
    },
    {
     "name": "stderr",
     "output_type": "stream",
     "text": [
      "C:\\Users\\omkar\\AppData\\Local\\Temp\\ipykernel_19148\\1589164854.py:8: FutureWarning: Series.fillna with 'method' is deprecated and will raise in a future version. Use obj.ffill() or obj.bfill() instead.\n",
      "  df['Market'] = df['Market'].fillna(method='ffill')\n",
      "C:\\Users\\omkar\\AppData\\Local\\Temp\\ipykernel_19148\\1589164854.py:8: FutureWarning: Series.fillna with 'method' is deprecated and will raise in a future version. Use obj.ffill() or obj.bfill() instead.\n",
      "  df['Market'] = df['Market'].fillna(method='ffill')\n",
      "C:\\Users\\omkar\\AppData\\Local\\Temp\\ipykernel_19148\\1589164854.py:8: FutureWarning: Series.fillna with 'method' is deprecated and will raise in a future version. Use obj.ffill() or obj.bfill() instead.\n",
      "  df['Market'] = df['Market'].fillna(method='ffill')\n",
      "C:\\Users\\omkar\\AppData\\Local\\Temp\\ipykernel_19148\\1589164854.py:8: FutureWarning: Series.fillna with 'method' is deprecated and will raise in a future version. Use obj.ffill() or obj.bfill() instead.\n",
      "  df['Market'] = df['Market'].fillna(method='ffill')\n",
      "C:\\Users\\omkar\\AppData\\Local\\Temp\\ipykernel_19148\\1589164854.py:8: FutureWarning: Series.fillna with 'method' is deprecated and will raise in a future version. Use obj.ffill() or obj.bfill() instead.\n",
      "  df['Market'] = df['Market'].fillna(method='ffill')\n",
      "C:\\Users\\omkar\\AppData\\Local\\Temp\\ipykernel_19148\\1589164854.py:8: FutureWarning: Series.fillna with 'method' is deprecated and will raise in a future version. Use obj.ffill() or obj.bfill() instead.\n",
      "  df['Market'] = df['Market'].fillna(method='ffill')\n",
      "C:\\Users\\omkar\\AppData\\Local\\Temp\\ipykernel_19148\\1589164854.py:8: FutureWarning: Series.fillna with 'method' is deprecated and will raise in a future version. Use obj.ffill() or obj.bfill() instead.\n",
      "  df['Market'] = df['Market'].fillna(method='ffill')\n",
      "C:\\Users\\omkar\\AppData\\Local\\Temp\\ipykernel_19148\\1589164854.py:8: FutureWarning: Series.fillna with 'method' is deprecated and will raise in a future version. Use obj.ffill() or obj.bfill() instead.\n",
      "  df['Market'] = df['Market'].fillna(method='ffill')\n",
      "C:\\Users\\omkar\\AppData\\Local\\Temp\\ipykernel_19148\\1589164854.py:8: FutureWarning: Series.fillna with 'method' is deprecated and will raise in a future version. Use obj.ffill() or obj.bfill() instead.\n",
      "  df['Market'] = df['Market'].fillna(method='ffill')\n"
     ]
    }
   ],
   "source": [
    "# Process each CSV file\n",
    "for file in csv_files:\n",
    "    # Load the CSV file into a DataFrame\n",
    "    try:\n",
    "        df = pd.read_csv(file)\n",
    "\n",
    "        # Fill the blank values in the 'Market' column with the most recent non-empty value\n",
    "        df['Market'] = df['Market'].fillna(method='ffill')\n",
    "\n",
    "        # Drop rows where the 'Arrival Date' column has null (NaN) values\n",
    "        df = df.dropna(subset=['Arrival Date'])\n",
    "\n",
    "        # Convert 'Arrival Date' to datetime format\n",
    "        df['Arrival Date'] = pd.to_datetime(df['Arrival Date'], dayfirst=True)\n",
    "\n",
    "        # Sort the DataFrame by 'Market' alphabetically and 'Arrival Date' from oldest to newest\n",
    "        df = df.sort_values(by=['Market', 'Arrival Date'])\n",
    "\n",
    "        # Create the output filename\n",
    "        output_filename = f\"{os.path.splitext(os.path.basename(file))[0]}_cleaned.csv\"\n",
    "        output_path = os.path.join(output_dir, output_filename)\n",
    "\n",
    "        # Save the cleaned DataFrame back to a CSV file in the 'CSV_Store' folder\n",
    "        df.to_csv(output_path, index=False)\n",
    "\n",
    "        print(f\"Processed and saved: {output_filename}\")\n",
    "\n",
    "    except FileNotFoundError as e:\n",
    "        print(f\"File not found: {file}. Error: {e}\")\n",
    "    except Exception as e:\n",
    "        print(f\"An error occurred while processing {file}: {e}\")\n",
    "\n",
    "print(\"All files processed and saved.\")"
   ]
  },
  {
   "cell_type": "code",
   "execution_count": 24,
   "metadata": {},
   "outputs": [
    {
     "name": "stdout",
     "output_type": "stream",
     "text": [
      "All files combined into 'combined_data_allmonths_24.csv'.\n"
     ]
    }
   ],
   "source": [
    "# Directory containing the processed CSV files\n",
    "csv_store_dir = 'CSV_STORE_24'\n",
    "\n",
    "# Get all CSV files in the \"CSV_STORE\" directory\n",
    "csv_files = [file for file in os.listdir(csv_store_dir) if file.endswith('.csv')]\n",
    "\n",
    "# List to hold DataFrames\n",
    "df_list = []\n",
    "\n",
    "# Read and append each CSV file to the list\n",
    "for file in csv_files:\n",
    "    file_path = os.path.join(csv_store_dir, file)\n",
    "    df = pd.read_csv(file_path)\n",
    "    df_list.append(df)\n",
    "\n",
    "# Concatenate all DataFrames in the list into a single DataFrame\n",
    "combined_df = pd.concat(df_list, ignore_index=True)\n",
    "combined_df = combined_df.sort_values(by=['Market', 'Arrival Date'])\n",
    "# Save the combined DataFrame to a new CSV file\n",
    "combined_df.to_csv('Data_24_allmonths.csv', index=False)\n",
    "\n",
    "print(\"All files combined into 'combined_data_allmonths_24.csv'.\")"
   ]
  },
  {
   "cell_type": "code",
   "execution_count": null,
   "metadata": {},
   "outputs": [],
   "source": []
  }
 ],
 "metadata": {
  "kernelspec": {
   "display_name": "Python 3",
   "language": "python",
   "name": "python3"
  },
  "language_info": {
   "codemirror_mode": {
    "name": "ipython",
    "version": 3
   },
   "file_extension": ".py",
   "mimetype": "text/x-python",
   "name": "python",
   "nbconvert_exporter": "python",
   "pygments_lexer": "ipython3",
   "version": "3.11.1"
  }
 },
 "nbformat": 4,
 "nbformat_minor": 2
}
