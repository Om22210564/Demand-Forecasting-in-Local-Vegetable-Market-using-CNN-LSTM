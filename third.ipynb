{
 "cells": [
  {
   "cell_type": "markdown",
   "metadata": {},
   "source": [
    "### Code for combining all yearly csv into one final csv **Zcombined_csv** ###"
   ]
  },
  {
   "cell_type": "code",
   "execution_count": 2,
   "metadata": {},
   "outputs": [],
   "source": [
    "import pandas as pd\n",
    "import os"
   ]
  },
  {
   "cell_type": "code",
   "execution_count": 4,
   "metadata": {},
   "outputs": [
    {
     "name": "stdout",
     "output_type": "stream",
     "text": [
      "Combined data saved as ./Zcombined_data_allyears.csv\n"
     ]
    }
   ],
   "source": [
    "# Define the paths for the two CSV files in the current working directory (CWD)\n",
    "file1 = './Data_23_allmonths.csv'\n",
    "file2 = './Data_24_allmonths.csv'\n",
    "\n",
    "# Read the CSV files into DataFrames\n",
    "df_2023 = pd.read_csv(file1)\n",
    "df_2024 = pd.read_csv(file2)\n",
    "\n",
    "# Combine the two DataFrames using pd.concat()\n",
    "combined_df = pd.concat([df_2023, df_2024])\n",
    "\n",
    "# Sort the DataFrame by 'Market' and 'Arrival Date'\n",
    "combined_df = combined_df.sort_values(by=['Market', 'Arrival Date'])\n",
    "\n",
    "# Save the combined DataFrame to a new CSV file in the CWD\n",
    "output_file = './Zcombined_data_allyears.csv'\n",
    "combined_df.to_csv(output_file, index=False)\n",
    "\n",
    "print(f\"Combined data saved as {output_file}\")\n"
   ]
  },
  {
   "cell_type": "code",
   "execution_count": null,
   "metadata": {},
   "outputs": [],
   "source": []
  }
 ],
 "metadata": {
  "kernelspec": {
   "display_name": "Python 3",
   "language": "python",
   "name": "python3"
  },
  "language_info": {
   "codemirror_mode": {
    "name": "ipython",
    "version": 3
   },
   "file_extension": ".py",
   "mimetype": "text/x-python",
   "name": "python",
   "nbconvert_exporter": "python",
   "pygments_lexer": "ipython3",
   "version": "3.11.1"
  }
 },
 "nbformat": 4,
 "nbformat_minor": 2
}
