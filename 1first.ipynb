{
 "cells": [
  {
   "cell_type": "markdown",
   "metadata": {},
   "source": [
    "#### To Uncleaned1 to CSV2 ####"
   ]
  },
  {
   "cell_type": "markdown",
   "metadata": {},
   "source": [
    "HTML files conversion to csv files"
   ]
  },
  {
   "cell_type": "code",
   "execution_count": 1,
   "metadata": {},
   "outputs": [],
   "source": [
    "from io import StringIO\n",
    "import pandas as pd\n",
    "from bs4 import BeautifulSoup\n",
    "import os"
   ]
  },
  {
   "cell_type": "code",
   "execution_count": 7,
   "metadata": {},
   "outputs": [],
   "source": [
    "input_folder = \"Uncleaned1\"\n",
    "output_folder = \"CSV2\""
   ]
  },
  {
   "cell_type": "code",
   "execution_count": 8,
   "metadata": {},
   "outputs": [],
   "source": [
    "os.makedirs(output_folder, exist_ok=True)"
   ]
  },
  {
   "cell_type": "code",
   "execution_count": 9,
   "metadata": {},
   "outputs": [
    {
     "name": "stdout",
     "output_type": "stream",
     "text": [
      "Processed and saved: 2013_csv.csv\n",
      "Processed and saved: 2014_csv.csv\n",
      "Processed and saved: 2015_csv.csv\n",
      "Processed and saved: 2016_csv.csv\n",
      "Processed and saved: 2017_csv.csv\n",
      "Processed and saved: 2018_csv.csv\n",
      "Processed and saved: 2019_csv.csv\n",
      "Processed and saved: 2020_csv.csv\n",
      "Processed and saved: 2021_csv.csv\n",
      "Processed and saved: 2022_csv.csv\n",
      "Processed and saved: 2023_csv.csv\n",
      "Processed and saved: 2024_csv.csv\n",
      "Conversion completed.\n"
     ]
    }
   ],
   "source": [
    "for file_name in os.listdir(input_folder):\n",
    "    if file_name.endswith(\".xls\"):\n",
    "        input_file_path = os.path.join(input_folder, file_name)\n",
    "        \n",
    "        # Read the .xls file content\n",
    "        with open(input_file_path, \"r\", encoding=\"utf-8\") as f:\n",
    "            content = f.read()\n",
    "        \n",
    "        # Parse the content with BeautifulSoup\n",
    "        soup = BeautifulSoup(content, \"html.parser\")\n",
    "        table = soup.find(\"table\", {\"class\": \"tableagmark_new\"})  # Locate the table\n",
    "\n",
    "        # Skip files where the table is not found\n",
    "        if table is None:\n",
    "            print(f\"Table not found in file: {file_name}\")\n",
    "            continue\n",
    "\n",
    "        # Use StringIO to wrap the table HTML for pandas\n",
    "        html_content = StringIO(str(table))\n",
    "        data = pd.read_html(html_content)[0]  # Parse the table into a DataFrame\n",
    "\n",
    "        # Define the output file path\n",
    "        output_file_name = f\"{os.path.splitext(file_name)[0]}_csv.csv\"\n",
    "        output_file_path = os.path.join(output_folder, output_file_name)\n",
    "\n",
    "        # Save the DataFrame as a CSV file\n",
    "        data.to_csv(output_file_path, index=False, encoding=\"utf-8\")\n",
    "        print(f\"Processed and saved: {output_file_name}\")\n",
    "\n",
    "print(\"Conversion completed.\")"
   ]
  },
  {
   "cell_type": "code",
   "execution_count": 18,
   "metadata": {},
   "outputs": [],
   "source": [
    "loc = \"C:/Users/omkar/OneDrive/Desktop/Design proj/DP_NEW/CSV2/2020_csv.csv\""
   ]
  },
  {
   "cell_type": "code",
   "execution_count": 19,
   "metadata": {},
   "outputs": [],
   "source": [
    "df = pd.read_csv(loc)"
   ]
  },
  {
   "cell_type": "code",
   "execution_count": 20,
   "metadata": {},
   "outputs": [
    {
     "name": "stdout",
     "output_type": "stream",
     "text": [
      "<class 'pandas.core.frame.DataFrame'>\n",
      "RangeIndex: 11494 entries, 0 to 11493\n",
      "Data columns (total 10 columns):\n",
      " #   Column                     Non-Null Count  Dtype  \n",
      "---  ------                     --------------  -----  \n",
      " 0   State Name                 11494 non-null  object \n",
      " 1   District Name              11494 non-null  object \n",
      " 2   Market Name                11494 non-null  object \n",
      " 3   Variety                    11494 non-null  object \n",
      " 4   Group                      11494 non-null  object \n",
      " 5   Arrivals (Tonnes)          11494 non-null  float64\n",
      " 6   Min Price (Rs./Quintal)    11494 non-null  int64  \n",
      " 7   Max Price (Rs./Quintal)    11494 non-null  int64  \n",
      " 8   Modal Price (Rs./Quintal)  11494 non-null  int64  \n",
      " 9   Reported Date              11494 non-null  object \n",
      "dtypes: float64(1), int64(3), object(6)\n",
      "memory usage: 898.1+ KB\n"
     ]
    }
   ],
   "source": [
    "df.info()"
   ]
  },
  {
   "cell_type": "code",
   "execution_count": 21,
   "metadata": {},
   "outputs": [
    {
     "data": {
      "text/plain": [
       "State Name                      1\n",
       "District Name                  21\n",
       "Market Name                    88\n",
       "Variety                         8\n",
       "Group                           1\n",
       "Arrivals (Tonnes)            1959\n",
       "Min Price (Rs./Quintal)       418\n",
       "Max Price (Rs./Quintal)      1716\n",
       "Modal Price (Rs./Quintal)     722\n",
       "Reported Date                 345\n",
       "dtype: int64"
      ]
     },
     "execution_count": 21,
     "metadata": {},
     "output_type": "execute_result"
    }
   ],
   "source": [
    "df.nunique()"
   ]
  },
  {
   "cell_type": "markdown",
   "metadata": {},
   "source": [
    "### Code for cleaning of all the csv files and preprocessing and then combining them to yearly ###"
   ]
  },
  {
   "cell_type": "code",
   "execution_count": 4,
   "metadata": {},
   "outputs": [],
   "source": [
    "csv_folder = 'C:/Users/omkar/OneDrive/Desktop/Design proj/DP_NEW/CSV2/'\n",
    "output_dir = 'C:/Users/omkar/OneDrive/Desktop/Design proj/DP_NEW/Cleaned/'\n",
    "os.makedirs(output_dir, exist_ok=True)\n",
    "# C:\\Users\\omkar\\OneDrive\\Desktop\\Design proj\\DP_NEW"
   ]
  },
  {
   "cell_type": "code",
   "execution_count": 5,
   "metadata": {},
   "outputs": [],
   "source": [
    "\n",
    "# csv_files\n",
    "csv_files = [os.path.join(csv_folder, file) for file in os.listdir(csv_folder) if file.endswith('.csv')]\n",
    "# csv_files"
   ]
  },
  {
   "cell_type": "code",
   "execution_count": 6,
   "metadata": {},
   "outputs": [
    {
     "name": "stdout",
     "output_type": "stream",
     "text": [
      "An error occurred while processing C:/Users/omkar/OneDrive/Desktop/Design proj/DP_NEW/CSV2/2013_csv.csv: 'Market'\n",
      "An error occurred while processing C:/Users/omkar/OneDrive/Desktop/Design proj/DP_NEW/CSV2/2014_csv.csv: 'Market'\n",
      "An error occurred while processing C:/Users/omkar/OneDrive/Desktop/Design proj/DP_NEW/CSV2/2015_csv.csv: 'Market'\n",
      "An error occurred while processing C:/Users/omkar/OneDrive/Desktop/Design proj/DP_NEW/CSV2/2016_csv.csv: 'Market'\n",
      "An error occurred while processing C:/Users/omkar/OneDrive/Desktop/Design proj/DP_NEW/CSV2/2017_csv.csv: 'Market'\n",
      "An error occurred while processing C:/Users/omkar/OneDrive/Desktop/Design proj/DP_NEW/CSV2/2018_csv.csv: 'Market'\n",
      "An error occurred while processing C:/Users/omkar/OneDrive/Desktop/Design proj/DP_NEW/CSV2/2019_csv.csv: 'Market'\n",
      "An error occurred while processing C:/Users/omkar/OneDrive/Desktop/Design proj/DP_NEW/CSV2/2020_csv.csv: 'Market'\n",
      "An error occurred while processing C:/Users/omkar/OneDrive/Desktop/Design proj/DP_NEW/CSV2/2021_csv.csv: 'Market'\n",
      "An error occurred while processing C:/Users/omkar/OneDrive/Desktop/Design proj/DP_NEW/CSV2/2022_csv.csv: 'Market'\n",
      "An error occurred while processing C:/Users/omkar/OneDrive/Desktop/Design proj/DP_NEW/CSV2/2023_csv.csv: 'Market'\n",
      "An error occurred while processing C:/Users/omkar/OneDrive/Desktop/Design proj/DP_NEW/CSV2/2024_csv.csv: 'Market'\n",
      "All files processed and saved.\n"
     ]
    }
   ],
   "source": [
    "# Process each CSV file\n",
    "for file in csv_files:\n",
    "    # Load the CSV file into a DataFrame\n",
    "    try:\n",
    "        df = pd.read_csv(file)\n",
    "\n",
    "        # Fill the blank values in the 'Market' column with the most recent non-empty value\n",
    "        df['Market'] = df['Market'].fillna(method='ffill')\n",
    "\n",
    "        # Drop rows where the 'Arrival Date' column has null (NaN) values\n",
    "        df = df.dropna(subset=['Arrival Date'])\n",
    "\n",
    "        # Convert 'Arrival Date' to datetime format\n",
    "        df['Arrival Date'] = pd.to_datetime(df['Arrival Date'], dayfirst=True)\n",
    "\n",
    "        # Sort the DataFrame by 'District Name','Market' alphabetically and 'Arrival Date' from oldest to newest\n",
    "        df = df.sort_values(by=['District Name','Market', 'Arrival Date','Variety'])\n",
    "\n",
    "        # Create the output filename\n",
    "        output_filename = f\"{os.path.splitext(os.path.basename(file))[0]}_cleaned.csv\"\n",
    "        output_path = os.path.join(output_dir, output_filename)\n",
    "\n",
    "        # Save the cleaned DataFrame back to a CSV file in the 'CSV_Store' folder\n",
    "        df.to_csv(output_path, index=False)\n",
    "\n",
    "        print(f\"Processed and saved: {output_filename}\")\n",
    "\n",
    "    except FileNotFoundError as e:\n",
    "        print(f\"File not found: {file}. Error: {e}\")\n",
    "    except Exception as e:\n",
    "        print(f\"An error occurred while processing {file}: {e}\")\n",
    "\n",
    "print(\"All files processed and saved.\")"
   ]
  },
  {
   "cell_type": "code",
   "execution_count": null,
   "metadata": {},
   "outputs": [],
   "source": []
  }
 ],
 "metadata": {
  "kernelspec": {
   "display_name": "Python 3",
   "language": "python",
   "name": "python3"
  },
  "language_info": {
   "codemirror_mode": {
    "name": "ipython",
    "version": 3
   },
   "file_extension": ".py",
   "mimetype": "text/x-python",
   "name": "python",
   "nbconvert_exporter": "python",
   "pygments_lexer": "ipython3",
   "version": "3.11.1"
  }
 },
 "nbformat": 4,
 "nbformat_minor": 2
}
